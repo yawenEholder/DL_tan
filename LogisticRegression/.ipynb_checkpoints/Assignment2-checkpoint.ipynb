{
 "cells": [
  {
   "cell_type": "markdown",
   "metadata": {},
   "source": [
    "#### To save file size, some of the ouput was cleared. You could redo these inputs to see the result."
   ]
  },
  {
   "cell_type": "code",
   "execution_count": 1,
   "metadata": {},
   "outputs": [],
   "source": [
    "import numpy as np\n",
    "import time"
   ]
  },
  {
   "cell_type": "code",
   "execution_count": 12,
   "metadata": {},
   "outputs": [],
   "source": [
    "import matplotlib.pyplot as plt"
   ]
  },
  {
   "cell_type": "code",
   "execution_count": 2,
   "metadata": {},
   "outputs": [],
   "source": [
    "from sklearn.datasets import load_svmlight_file\n",
    "train_data = load_svmlight_file(\"a9a_train.txt\")\n",
    "test_data = load_svmlight_file(\"a9a_test.txt\")\n",
    "    \n",
    "train_X,train_y = train_data[0],train_data[1]\n",
    "test_X,test_y = test_data[0],test_data[1]\n",
    "train_X = train_X.toarray()\n",
    "test_X = test_X.toarray()\n",
    "train_y = train_y.reshape((len(train_y),1))\n",
    "test_y = test_y.reshape((len(test_y),1))\n",
    "    \n",
    "test_X = np.insert(test_X,121,0,axis=1)\n",
    "    \n",
    "train_y2 = (train_y + 1)/2\n",
    "test_y2 = (test_y + 1)/2"
   ]
  },
  {
   "cell_type": "code",
   "execution_count": 30,
   "metadata": {},
   "outputs": [],
   "source": [
    "class LogisticRegression(object):\n",
    "    def __init__(self,shape,method='random'):\n",
    "        self.W = 0\n",
    "        self.lambd = 0.0\n",
    "        if method == 'default':\n",
    "            #add one dimension of b\n",
    "            self.W = np.zeros(shape+1)\n",
    "        elif method == 'random':\n",
    "            self.W = np.random.rand(shape+1)\n",
    "        elif method == 'norm':\n",
    "            self.W = np.random.randn(shape+1)\n",
    "        self.W = self.W.reshape((len(self.W),1))\n",
    "        \n",
    "    def getLoss(self,X,Y,method='l1'):\n",
    "        #X: samples * features\n",
    "        #W: features * 1\n",
    "        #Y: samples * 1\n",
    "        if method == 'l1':\n",
    "            temp1 = np.dot(X,self.W) # samples * 1\n",
    "            temp2 = np.multiply(Y,temp1) # samples * 1\n",
    "            pureLoss = np.mean(np.log(1 + np.exp(-temp2))) # single value\n",
    "            totalLoss = pureLoss + self.lambd * np.sum(np.square(self.W))/2\n",
    "        if method == 'l2':\n",
    "            temp1 = Y * np.log(self.sigmoid(X))\n",
    "            temp2 = (1-Y)*(np.log(1-self.sigmoid(X)))\n",
    "            pureLoss = -np.mean(temp1+temp2)\n",
    "            totalLoss = pureLoss\n",
    "        #f.write('pure Loss: '+str(pureLoss)+' total Loss: '+str(totalLoss)+'\\n')\n",
    "        return pureLoss, totalLoss\n",
    "    \n",
    "    def randomChoice(self,X,y,size=32):\n",
    "        num = np.random.choice(len(X)-size-1)\n",
    "        sample_x = X[num:num+size]\n",
    "        sample_y = y[num:num+size]\n",
    "        return sample_x,sample_y\n",
    "        \n",
    "    \n",
    "    def trainWithSGD(self,X_train,y_train,X_val,y_val,batch_size=32,learning_rate=0.01,filename='test1',maxLoop=5):\n",
    "        #y \\in {+1,-1}\n",
    "        f = open(filename,'w')\n",
    "        f.write('Start training...\\n')\n",
    "        start = time.time()\n",
    "        train_losses = []\n",
    "        val_losses = []\n",
    "        acc = []\n",
    "        X_train = np.insert(X_train,0,1,axis=1)\n",
    "        X_val = np.insert(X_val,0,1,axis=1)\n",
    "        for i in range(maxLoop):\n",
    "            X,y = self.randomChoice(X_train,y_train,size=batch_size)\n",
    "            #temp1 = (1-learning_rate*self.lambd)*self.W #features * 1\n",
    "            temp1 = self.lambd*self.W\n",
    "            temp2 = np.multiply(y,np.dot(X,self.W)) #samples * 1\n",
    "            temp3 = np.multiply(y,X).T #features*samples\n",
    "            temp4 = np.dot(temp3,1/(1 + np.exp(temp2))) #features * 1\n",
    "            gradient = temp1 - (1/batch_size)*temp4\n",
    "            self.W = self.W - learning_rate * gradient\n",
    "            train_loss = self.getLoss(X_train,y_train)\n",
    "            val_loss = self.getLoss(X_val,y_val)\n",
    "            score = self.acc(y_val,self.predict(X_val))\n",
    "            f.write('\\nepoch '+str(i+1)+'   Training loss:   '+str(train_loss)+'  Valing loss:   '+str(val_loss)+' acc: '+str(score)+'\\n\\n')\n",
    "            train_losses.append(train_loss)\n",
    "            val_losses.append(val_loss)\n",
    "            acc.append(score)\n",
    "        print(time.time()-start)\n",
    "        f.close()\n",
    "        return train_losses,val_losses,acc\n",
    "            \n",
    "    \n",
    "    def sigmoid(self,x):\n",
    "        return 1 / (1.0 + np.exp(-np.dot(x,self.W)))\n",
    "    \n",
    "    def trainWithSGD2(self,X_train,y_train,X_val,y_val,batch_size=32,learning_rate=0.01,filename='test1',maxLoop=500):\n",
    "        #y \\in {+1,0}\n",
    "        f = open(filename,'w')\n",
    "        f.write('Start training...\\n')\n",
    "        start = time.time()\n",
    "        train_losses = []\n",
    "        val_losses = []\n",
    "        acc = []\n",
    "        X_train = np.insert(X_train,0,1,axis=1)\n",
    "        X_val = np.insert(X_val,0,1,axis=1)\n",
    "        for i in range(maxLoop):\n",
    "            X,y = self.randomChoice(X_train,y_train,size=batch_size)\n",
    "            temp1 = self.sigmoid(X)-y\n",
    "            #按列求均值\n",
    "            temp2 = np.mean(temp1*X,axis=0) #1*f\n",
    "            self.W = self.W - learning_rate * (temp2.T)\n",
    "            train_loss = self.getLoss(X_train,y_train,'l2')\n",
    "            val_loss = self.getLoss(X_val,y_val,'l2')\n",
    "            score = self.acc(y_val,self.predict(X_val))\n",
    "            f.write('\\nepoch '+str(i+1)+'   Training loss:   '+str(train_loss)+'  Valing loss:   '+str(val_loss)+' acc: '+str(score)+'\\n\\n')\n",
    "            train_losses.append(train_loss)\n",
    "            val_losses.append(val_loss)\n",
    "            acc.append(score)\n",
    "        print(time.time()-start)\n",
    "        f.close()\n",
    "        return train_losses,val_losses,acc\n",
    "        \n",
    "    def trainWithAdam(self,X_train,y_train,X_val,y_val,batch_size=32,learning_rate=0.01,filename='test1',beta1=0.9,beta2=0.999,epsilon=10e-8,maxLoop=500):\n",
    "        f = open(filename,'w')\n",
    "        f.write('Start training...\\n')\n",
    "        start = time.time()\n",
    "        train_losses = []\n",
    "        val_losses = []\n",
    "        X_train = np.insert(X_train,0,1,axis=1)\n",
    "        X_val = np.insert(X_val,0,1,axis=1)\n",
    "        m = 0\n",
    "        v = 0\n",
    "        for t in range(maxLoop):\n",
    "            X,y = self.randomChoice(X_train,y_train,size=batch_size)\n",
    "            temp1 = self.lambd*self.W\n",
    "            temp2 = np.multiply(y,np.dot(X,self.W)) #samples * 1\n",
    "            temp3 = np.multiply(y,X).T #features*samples\n",
    "            temp4 = np.dot(temp3,1/(1 + np.exp(temp2))) #features * 1\n",
    "            gradient = temp1 - (1/batch_size)*temp4\n",
    "            \n",
    "            m = beta1*m + (1-beta1)*gradient\n",
    "            v = beta2*v + (1-beta2)*(np.square(gradient))\n",
    "            m_bias = m / (1-np.power(beta1,t+1))\n",
    "            v_bias = v / (1-np.power(beta2,t+1))\n",
    "            gradient = m_bias / (np.sqrt(v_bias)+epsilon)\n",
    "            \n",
    "            self.W = self.W - learning_rate * gradient\n",
    "            train_loss = self.getLoss(X_train,y_train)\n",
    "            val_loss = self.getLoss(X_val,y_val)\n",
    "            f.write('\\nepoch '+str(t+1)+'   Training loss:   '+str(train_loss)+'  Valing loss:   '+str(val_loss)+' m'+str(m)+' v'+str(v)+'\\n\\n')\n",
    "            train_losses.append(train_loss)\n",
    "            val_losses.append(val_loss)\n",
    "        print(time.time()-start)\n",
    "        f.close()\n",
    "        return train_losses,val_losses\n",
    "            \n",
    "        \n",
    "    \n",
    "    def predict(self,X_test,method='l1'):\n",
    "        #X_test = np.insert(X_test,0,1,axis=1)\n",
    "        prob = self.sigmoid(X_test)\n",
    "        if method=='l1':\n",
    "            pre = np.where(prob>0.5,1,-1)\n",
    "        if method=='l2':\n",
    "            pre = np.where(prob>0.5,1,0)\n",
    "        return pre\n",
    "    \n",
    "    def acc(self,y_tru,y_pre):\n",
    "        count = 0\n",
    "        for i in range(len(y_tru)):\n",
    "            if y_tru[i] == y_pre[i]:\n",
    "                count+=1\n",
    "        return float(count)/len(y_tru)"
   ]
  },
  {
   "cell_type": "code",
   "execution_count": 4,
   "metadata": {},
   "outputs": [
    {
     "name": "stdout",
     "output_type": "stream",
     "text": [
      "39.89064168930054\n"
     ]
    }
   ],
   "source": [
    "#batch=32,rate=0.01,lam=0.0\n",
    "lrsgd1 = LogisticRegression(train_X.shape[1])\n",
    "lrsgd1tr,lrsgd1te,lrsgd1acc = lrsgd1.trainWithSGD(train_X,train_y,test_X,test_y,filename='lrsgdlam0batch32rate001',maxLoop=500)"
   ]
  },
  {
   "cell_type": "code",
   "execution_count": 5,
   "metadata": {},
   "outputs": [
    {
     "name": "stdout",
     "output_type": "stream",
     "text": [
      "40.07382678985596\n"
     ]
    }
   ],
   "source": [
    "#batch=32,rate=0.01,lam=1.0\n",
    "lrsgd2 = LogisticRegression(train_X.shape[1])\n",
    "lrsgd2.lambd = 1.0\n",
    "lrsgd2tr,lrsgd2te,lrsgd2acc = lrsgd2.trainWithSGD(train_X,train_y,test_X,test_y,filename='lrsgd2lam1batch32rate001',maxLoop=500)"
   ]
  },
  {
   "cell_type": "code",
   "execution_count": 6,
   "metadata": {},
   "outputs": [
    {
     "name": "stdout",
     "output_type": "stream",
     "text": [
      "39.78113770484924\n"
     ]
    }
   ],
   "source": [
    "#batch=32,rate=0.01,lam=10.0\n",
    "lrsgd3 = LogisticRegression(train_X.shape[1])\n",
    "lrsgd3.lambd = 10.0\n",
    "lrsgd3tr,lrsgd3te,lrsgd3acc = lrsgd3.trainWithSGD(train_X,train_y,test_X,test_y,filename='lrsgd3lam10batch32rate001',maxLoop=500)"
   ]
  },
  {
   "cell_type": "code",
   "execution_count": 7,
   "metadata": {},
   "outputs": [
    {
     "name": "stdout",
     "output_type": "stream",
     "text": [
      "41.66224503517151\n"
     ]
    }
   ],
   "source": [
    "#batch=32,lam=0.0,rate=1.0\n",
    "lrsgd4 = LogisticRegression(train_X.shape[1])\n",
    "lrsgd4tr,lrsgd4te,lrsgd4acc = lrsgd4.trainWithSGD(train_X,train_y,test_X,test_y,filename='lrsgd4lam0batch32rate1',learning_rate=1.0,maxLoop=500)"
   ]
  },
  {
   "cell_type": "code",
   "execution_count": 8,
   "metadata": {},
   "outputs": [
    {
     "name": "stdout",
     "output_type": "stream",
     "text": [
      "39.71640181541443\n"
     ]
    }
   ],
   "source": [
    "#batch=32,lam=0.0,rate=0.0001\n",
    "lrsgd5 = LogisticRegression(train_X.shape[1])\n",
    "lrsgd5tr,lrsgd5te,lrsgd5acc = lrsgd5.trainWithSGD(train_X,train_y,test_X,test_y,filename='lrsgd5lam0batch32rate00001',learning_rate=0.0001,maxLoop=500)"
   ]
  },
  {
   "cell_type": "code",
   "execution_count": 9,
   "metadata": {},
   "outputs": [
    {
     "name": "stdout",
     "output_type": "stream",
     "text": [
      "40.671228647232056\n"
     ]
    }
   ],
   "source": [
    "#lam=0.0,rate=0.01,batch=16\n",
    "lrsgd6 = LogisticRegression(train_X.shape[1])\n",
    "lrsgd6tr,lrsgd6te,lrsgd6acc = lrsgd6.trainWithSGD(train_X,train_y,test_X,test_y,filename='lrsgd6lam0batch16rate001',batch_size=16,maxLoop=500)"
   ]
  },
  {
   "cell_type": "code",
   "execution_count": 10,
   "metadata": {},
   "outputs": [
    {
     "name": "stdout",
     "output_type": "stream",
     "text": [
      "41.043086528778076\n"
     ]
    }
   ],
   "source": [
    "#lam=0.0,rate=0.01,batch=64\n",
    "lrsgd7 = LogisticRegression(train_X.shape[1])\n",
    "lrsgd7tr,lrsgd7te,lrsgd7acc = lrsgd7.trainWithSGD(train_X,train_y,test_X,test_y,filename='lrsgd7lam0batch64rate001',batch_size=64,maxLoop=500)"
   ]
  },
  {
   "cell_type": "code",
   "execution_count": 26,
   "metadata": {},
   "outputs": [
    {
     "data": {
      "image/png": "[encoded data removed]",
      "text/plain": [
       "<Figure size 1152x432 with 3 Axes>"
      ]
     },
     "metadata": {},
     "output_type": "display_data"
    }
   ],
   "source": [
    "plt.figure(figsize=(16,6))\n",
    "\n",
    "ax1 = plt.subplot(1,3,1)\n",
    "ax1.plot(range(1,len(lrsgd1te)+1), [i[1] for i in lrsgd1te], 'r--')\n",
    "ax1.plot(range(1,len(lrsgd2te)+1), [i[1] for i in lrsgd2te], 'bp-.')\n",
    "ax1.plot(range(1,len(lrsgd3te)+1), [i[1] for i in lrsgd3te], 'c--')\n",
    "label1 = ['lrsgd+lambda=0.0', 'lrsgd+lambda=1.0','lrsgd+lambda=10.0'] \n",
    "ax1.legend(label1, loc='upper right')\n",
    "ax1.set_xlabel('iterations')\n",
    "ax1.set_ylabel('total loss')\n",
    "\n",
    "ax2 = plt.subplot(1,3,2)\n",
    "ax2.plot(range(1,len(lrsgd1te)+1), [i[1] for i in lrsgd1te], 'r--')\n",
    "ax2.plot(range(1,len(lrsgd4te)+1), [i[1] for i in lrsgd4te], 'gp-.')\n",
    "ax2.plot(range(1,len(lrsgd5te)+1), [i[1] for i in lrsgd5te], 'c--')\n",
    "label2 = ['lrsgd+rate=0.01', 'lrsgd+rate=1.0','lrsgd+rate=0.0001'] \n",
    "ax2.legend(label2, loc='upper right')\n",
    "ax2.set_xlabel('iterations')\n",
    "ax2.set_ylabel('loss')\n",
    "\n",
    "ax3 = plt.subplot(1,3,3)\n",
    "ax3.plot(range(1,len(lrsgd1te)+1), [i[1] for i in lrsgd1te], 'r--')\n",
    "ax3.plot(range(1,len(lrsgd6te)+1), [i[1] for i in lrsgd6te], 'gp-.')\n",
    "ax3.plot(range(1,len(lrsgd7te)+1), [i[1] for i in lrsgd7te], 'c--')\n",
    "label3 = ['lrsgd+batch=32', 'lrsgd+batch=16','lrsgd+batch=64'] \n",
    "ax3.legend(label3, loc='upper right')\n",
    "ax3.set_xlabel('iterations')\n",
    "ax3.set_ylabel('loss')\n",
    "\n",
    "plt.tight_layout()\n",
    "#plt.subplots_adjust(wspace =2, hspace =2)\n",
    "plt.savefig('gg3.pdf')\n",
    "plt.show()"
   ]
  },
  {
   "cell_type": "code",
   "execution_count": 41,
   "metadata": {},
   "outputs": [
    {
     "data": {
      "image/png": "[encoded data removed]",
      "text/plain": [
       "<Figure size 1152x432 with 3 Axes>"
      ]
     },
     "metadata": {},
     "output_type": "display_data"
    }
   ],
   "source": [
    "plt.figure(figsize=(16,6))\n",
    "\n",
    "ax1 = plt.subplot(1,3,1)\n",
    "ax1.plot(range(1,len(lrsgd1acc)+1), lrsgd1acc, 'r--')\n",
    "ax1.plot(range(1,len(lrsgd2acc)+1), lrsgd2acc, 'bp-.')\n",
    "ax1.plot(range(1,len(lrsgd3acc)+1), lrsgd3acc, 'c--')\n",
    "label1 = ['lrsgd+lambda=0.0', 'lrsgd+lambda=1.0','lrsgd+lambda=10.0'] \n",
    "ax1.legend(label1, loc='lower right')\n",
    "ax1.set_xlabel('iterations')\n",
    "ax1.set_ylabel('accurate')\n",
    "\n",
    "ax2 = plt.subplot(1,3,2)\n",
    "ax2.plot(range(1,len(lrsgd1acc)+1), lrsgd1acc, 'r--')\n",
    "ax2.plot(range(1,len(lrsgd4acc)+1), lrsgd4acc, 'gp-.')\n",
    "ax2.plot(range(1,len(lrsgd5acc)+1), lrsgd5acc, 'c--')\n",
    "label2 = ['lrsgd+rate=0.01', 'lrsgd+rate=1.0','lrsgd+rate=0.0001'] \n",
    "ax2.legend(label2, loc='lower right')\n",
    "ax2.set_xlabel('iterations')\n",
    "ax2.set_ylabel('accurate')\n",
    "\n",
    "ax3 = plt.subplot(1,3,3)\n",
    "ax3.plot(range(1,len(lrsgd1acc)+1), lrsgd1acc, 'r--')\n",
    "ax3.plot(range(1,len(lrsgd6acc)+1), lrsgd6acc, 'gp-.')\n",
    "ax3.plot(range(1,len(lrsgd7acc)+1), lrsgd7acc, 'c--')\n",
    "label3 = ['lrsgd+batch=32', 'lrsgd+batch=16','lrsgd+batch=64'] \n",
    "ax3.legend(label3, loc='lower right')\n",
    "ax3.set_xlabel('iterations')\n",
    "ax3.set_ylabel('accurate')\n",
    "\n",
    "plt.tight_layout()\n",
    "#plt.subplots_adjust(wspace =2, hspace =2)\n",
    "plt.savefig('gg4.pdf')\n",
    "plt.show()"
   ]
  },
  {
   "cell_type": "code",
   "execution_count": 42,
   "metadata": {},
   "outputs": [
    {
     "name": "stdout",
     "output_type": "stream",
     "text": [
      "254.23438048362732\n"
     ]
    }
   ],
   "source": [
    "#batch=32,rate=0.01,lam=0.0\n",
    "lradam1 = LogisticRegression(train_X.shape[1])\n",
    "lradam1tr,lradam1te,lradam1acc = lradam1.trainWithAdam(train_X,train_y,test_X,test_y,filename='lradamlam0batch32rate001',maxLoop=3000)"
   ]
  },
  {
   "cell_type": "code",
   "execution_count": 43,
   "metadata": {},
   "outputs": [
    {
     "name": "stdout",
     "output_type": "stream",
     "text": [
      "253.89601802825928\n"
     ]
    }
   ],
   "source": [
    "#batch=32,rate=0.01,lam=1.0\n",
    "lradam2 = LogisticRegression(train_X.shape[1])\n",
    "lradam2.lambd = 1.0\n",
    "lradam2tr,lradam2te,lradam2acc = lradam2.trainWithAdam(train_X,train_y,test_X,test_y,filename='lradam2lam1batch32rate001',maxLoop=3000)"
   ]
  },
  {
   "cell_type": "code",
   "execution_count": 44,
   "metadata": {},
   "outputs": [
    {
     "name": "stdout",
     "output_type": "stream",
     "text": [
      "253.96609497070312\n"
     ]
    }
   ],
   "source": [
    "#batch=32,rate=0.01,lam=10.0\n",
    "lradam3 = LogisticRegression(train_X.shape[1])\n",
    "lradam3.lambd = 10.0\n",
    "lradam3tr,lradam3te,lradam3acc = lradam3.trainWithAdam(train_X,train_y,test_X,test_y,filename='lradam3lam10batch32rate001',maxLoop=3000)"
   ]
  },
  {
   "cell_type": "code",
   "execution_count": 45,
   "metadata": {},
   "outputs": [
    {
     "name": "stdout",
     "output_type": "stream",
     "text": [
      "251.66532564163208\n"
     ]
    }
   ],
   "source": [
    "#batch=32,lam=0.0,rate=1.0\n",
    "lradam4 = LogisticRegression(train_X.shape[1])\n",
    "lradam4.lambd = 0.0\n",
    "lradam4tr,lradam4te,lradam4acc = lradam4.trainWithAdam(train_X,train_y,test_X,test_y,filename='lradam4lam0batch32rate1',learning_rate=1.0,maxLoop=3000)"
   ]
  },
  {
   "cell_type": "code",
   "execution_count": 46,
   "metadata": {},
   "outputs": [
    {
     "name": "stdout",
     "output_type": "stream",
     "text": [
      "246.92852473258972\n"
     ]
    }
   ],
   "source": [
    "#batch=32,lam=0.0,rate=0.0001\n",
    "lradam5 = LogisticRegression(train_X.shape[1])\n",
    "lradam5.lambd = 0.0\n",
    "lradam5tr,lradam5te,lradam5acc = lradam5.trainWithAdam(train_X,train_y,test_X,test_y,filename='lradam5lam0batch32rate00001',learning_rate=0.0001,maxLoop=3000)"
   ]
  },
  {
   "cell_type": "code",
   "execution_count": 47,
   "metadata": {},
   "outputs": [
    {
     "name": "stdout",
     "output_type": "stream",
     "text": [
      "250.24489998817444\n"
     ]
    }
   ],
   "source": [
    "#rate=0.01,lam=0.0,batch=16\n",
    "lradam6 = LogisticRegression(train_X.shape[1])\n",
    "lradam6.lambd = 0.0\n",
    "lradam6tr,lradam6te,lradam6acc = lradam6.trainWithAdam(train_X,train_y,test_X,test_y,filename='lradam6lam0batch16rate001',batch_size=16,maxLoop=3000)"
   ]
  },
  {
   "cell_type": "code",
   "execution_count": 48,
   "metadata": {},
   "outputs": [
    {
     "name": "stdout",
     "output_type": "stream",
     "text": [
      "250.82413411140442\n"
     ]
    }
   ],
   "source": [
    "#rate=0.01,lam=0.0,batch=64\n",
    "lradam7 = LogisticRegression(train_X.shape[1])\n",
    "lradam7.lambd = 0.0\n",
    "lradam7tr,lradam7te,lradam7acc = lradam7.trainWithAdam(train_X,train_y,test_X,test_y,filename='lradam7lam0batch64rate001',batch_size=64,maxLoop=3000)"
   ]
  },
  {
   "cell_type": "code",
   "execution_count": null,
   "metadata": {},
   "outputs": [],
   "source": [
    "plt.figure(figsize=(16,6))\n",
    "\n",
    "ax1 = plt.subplot(1,3,1)\n",
    "ax1.plot(range(1,len(lradam1te)+1), [i[1] for i in lradam1te], 'r--')\n",
    "ax1.plot(range(1,len(lradam2te)+1), [i[1] for i in lradam2te], 'bp-.')\n",
    "ax1.plot(range(1,len(lradam3te)+1), [i[1] for i in lradam3te], 'c--')\n",
    "label1 = ['lradam+lambda=0.0', 'lradam+lambda=1.0','lradam+lambda=10.0'] \n",
    "ax1.legend(label1, loc='upper right')\n",
    "ax1.set_xlabel('iterations')\n",
    "ax1.set_ylabel('total loss')\n",
    "\n",
    "ax2 = plt.subplot(1,3,2)\n",
    "ax2.plot(range(1,len(lradam1te)+1), [i[1] for i in lradam1te], 'r--')\n",
    "ax2.plot(range(1,len(lradam4te)+1), [i[1] for i in lradam4te], 'gp-.')\n",
    "ax2.plot(range(1,len(lradam5te)+1), [i[1] for i in lradam5te], 'c--')\n",
    "label2 = ['lradam+rate=0.01', 'lradam+rate=1.0','lradam+rate=0.0001'] \n",
    "ax2.legend(label2, loc='upper right')\n",
    "ax2.set_xlabel('iterations')\n",
    "ax2.set_ylabel('loss')\n",
    "\n",
    "ax3 = plt.subplot(1,3,3)\n",
    "ax3.plot(range(1,len(lradam1te)+1), [i[1] for i in lradam1te], 'r--')\n",
    "ax3.plot(range(1,len(lradam6te)+1), [i[1] for i in lradam6te], 'gp-.')\n",
    "ax3.plot(range(1,len(lradam7te)+1), [i[1] for i in lradam7te], 'c--')\n",
    "label3 = ['lradam+batch=32', 'lradam+batch=16','lradam+batch=64'] \n",
    "ax3.legend(label3, loc='upper right')\n",
    "ax3.set_xlabel('iterations')\n",
    "ax3.set_ylabel('loss')\n",
    "\n",
    "plt.tight_layout()\n",
    "#plt.subplots_adjust(wspace =2, hspace =2)\n",
    "plt.savefig('adam3000l.pdf')\n",
    "plt.show()"
   ]
  },
  {
   "cell_type": "code",
   "execution_count": null,
   "metadata": {},
   "outputs": [],
   "source": [
    "plt.figure(figsize=(16,6))\n",
    "\n",
    "ax1 = plt.subplot(1,3,1)\n",
    "ax1.plot(range(1,len(lradam1acc)+1), lradam1acc, 'r--')\n",
    "ax1.plot(range(1,len(lradam2acc)+1), lradam2acc, 'bp-.')\n",
    "ax1.plot(range(1,len(lradam3acc)+1), lradam3acc, 'c--')\n",
    "label1 = ['lradam+lambda=0.0', 'lradam+lambda=1.0','lradam+lambda=10.0'] \n",
    "ax1.legend(label1, loc='lower right')\n",
    "ax1.set_xlabel('iterations')\n",
    "ax1.set_ylabel('accurate')\n",
    "\n",
    "ax2 = plt.subplot(1,3,2)\n",
    "ax2.plot(range(1,len(lradam1acc)+1), lradam1acc, 'r--')\n",
    "ax2.plot(range(1,len(lradam4acc)+1), lradam4acc, 'gp-.')\n",
    "ax2.plot(range(1,len(lradam5acc)+1), lradam5acc, 'c--')\n",
    "label2 = ['lradam+rate=0.01', 'lradamd+rate=1.0','lradam+rate=0.0001'] \n",
    "ax2.legend(label2, loc='lower right')\n",
    "ax2.set_xlabel('iterations')\n",
    "ax2.set_ylabel('accurate')\n",
    "\n",
    "ax3 = plt.subplot(1,3,3)\n",
    "ax3.plot(range(1,len(lradam1acc)+1), lradam1acc, 'r--')\n",
    "ax3.plot(range(1,len(lradam6acc)+1), lradam6acc, 'gp-.')\n",
    "ax3.plot(range(1,len(lradam7acc)+1), lradam7acc, 'c--')\n",
    "label3 = ['lradam+batch=32', 'lradam+batch=16','lradam+batch=64'] \n",
    "ax3.legend(label3, loc='lower right')\n",
    "ax3.set_xlabel('iterations')\n",
    "ax3.set_ylabel('accurate')\n",
    "\n",
    "plt.tight_layout()\n",
    "#plt.subplots_adjust(wspace =2, hspace =2)\n",
    "plt.savefig('adam3000a.pdf')\n",
    "plt.show()"
   ]
  },
  {
   "cell_type": "code",
   "execution_count": 51,
   "metadata": {},
   "outputs": [],
   "source": [
    "class SVMClassification(object):\n",
    "    def __init__(self,shape,c=1.0,method='random'):\n",
    "        self.W = 0\n",
    "        self.b = 0.0\n",
    "        if method == 'default':\n",
    "            #add one dimension of b\n",
    "            self.W = np.zeros(shape+1)\n",
    "            self.b = 0.0\n",
    "        elif method == 'random':\n",
    "            self.W = np.random.rand(shape+1)\n",
    "            self.b = np.random.random()\n",
    "        elif method == 'norm':\n",
    "            self.W = np.random.randn(shape+1)\n",
    "            self.b = np.random.random()\n",
    "        self.C = c\n",
    "        self.W = self.W.reshape((len(self.W),1))\n",
    "        \n",
    "    def getLoss(self,X,Y):\n",
    "        #x: samples*features\n",
    "        #y: samples*1\n",
    "        #W:features*1\n",
    "        temp1 = np.sum(np.square(self.W))/2.0\n",
    "        temp2 = 1-np.multiply(Y,(np.dot(X,self.W)+self.b))\n",
    "        temp3 = np.maximum(temp2,0)\n",
    "        loss = temp1 + self.C * np.mean(temp3)\n",
    "        return loss\n",
    "    \n",
    "    def randomChoice(self,X,y,size=32):\n",
    "        num = np.random.choice(len(X)-size-1)\n",
    "        sample_x = X[num:num+size]\n",
    "        sample_y = y[num:num+size]\n",
    "        return sample_x,sample_y\n",
    "    \n",
    "    def trainWithSGD(self,X_train,y_train,X_val,y_val,batch_size=32,learning_rate=0.01,filename='test1',maxLoop=500):\n",
    "        #y \\in {+1,0}\n",
    "        f = open(filename,'w')\n",
    "        f.write('Start training...\\n')\n",
    "        start = time.time()\n",
    "        train_losses = []\n",
    "        val_losses = []\n",
    "        acc = []\n",
    "        X_train = np.insert(X_train,0,1,axis=1)\n",
    "        X_val = np.insert(X_val,0,1,axis=1)\n",
    "        for i in range(maxLoop):\n",
    "            X,y = self.randomChoice(X_train,y_train,size=batch_size)\n",
    "            #update w\n",
    "            temp = 1-np.multiply(y,(np.dot(X,self.W)+self.b)) #samples*1\n",
    "            temp2 = np.mean(np.where(temp>=0,-np.multiply(y,X),0),axis=0)\n",
    "            temp2 = temp2.reshape((len(temp2),1))\n",
    "            w_gradient = self.W + self.C * temp2\n",
    "            self.W = self.W - learning_rate * w_gradient\n",
    "            #update b\n",
    "            temp3 = np.where(temp>=0,-y,0) #samples*1\n",
    "            b_gradient = self.C * np.mean(temp3)\n",
    "            self.b = self.b - learning_rate * b_gradient\n",
    "            train_loss = self.getLoss(X_train,y_train)\n",
    "            val_loss = self.getLoss(X_val,y_val)\n",
    "            score = self.acc(y_val,self.predict(X_val))\n",
    "            f.write('\\nepoch '+str(i+1)+'   Training loss:   '+str(train_loss)+'  Valing loss:   '+str(val_loss)+' Score: '+str(score)+'\\n\\n')\n",
    "            train_losses.append(train_loss)\n",
    "            val_losses.append(val_loss)\n",
    "            acc.append(score)\n",
    "        print(time.time()-start)\n",
    "        f.close()\n",
    "        return train_losses,val_losses,acc\n",
    "        \n",
    "    \n",
    "    def trainWithAdam(self,X_train,y_train,X_val,y_val,batch_size=32,learning_rate=0.01,filename='test1',beta1=0.9,beta2=0.999,epsilon=10e-8,maxLoop=500):\n",
    "        f = open(filename,'w')\n",
    "        f.write('Start training...\\n')\n",
    "        start = time.time()\n",
    "        train_losses = []\n",
    "        val_losses = []\n",
    "        acc = []\n",
    "        X_train = np.insert(X_train,0,1,axis=1)\n",
    "        X_val = np.insert(X_val,0,1,axis=1)\n",
    "        mw = 0\n",
    "        vw = 0\n",
    "        mb = 0\n",
    "        vb = 0\n",
    "        for t in range(maxLoop):\n",
    "            X,y = self.randomChoice(X_train,y_train,size=batch_size)\n",
    "            #calculate gradient w\n",
    "            temp = 1-np.multiply(y,(np.dot(X,self.W)+self.b)) #samples*1\n",
    "            temp2 = np.mean(np.where(temp>=0,-np.multiply(y,X),0),axis=0)\n",
    "            temp2 = temp2.reshape((len(temp2),1))\n",
    "            w_gradient = self.W + self.C * temp2\n",
    "            mw = beta1*mw + (1-beta1)*w_gradient\n",
    "            vw = beta2*vw + (1-beta2)*(np.square(w_gradient))\n",
    "            mw_bias = mw / (1-np.power(beta1,t+1))\n",
    "            vw_bias = vw / (1-np.power(beta2,t+1))\n",
    "            w_gradient = mw_bias / (np.sqrt(vw_bias)+epsilon)\n",
    "            \n",
    "            #calculate gradient b\n",
    "            temp3 = np.where(temp>=0,-y,0) #samples*1\n",
    "            b_gradient = self.C * np.mean(temp3)\n",
    "            mb = beta1*mb + (1-beta1)*b_gradient\n",
    "            vb = beta2*vb + (1-beta2)*(np.square(b_gradient))\n",
    "            mb_bias = mb / (1-np.power(beta1,t+1))\n",
    "            vb_bias = vb / (1-np.power(beta2,t+1))\n",
    "            b_gradient = mb_bias / (np.sqrt(vb_bias)+epsilon)\n",
    "            \n",
    "            #update parameter W,b\n",
    "            self.W = self.W -  learning_rate * w_gradient\n",
    "            self.b = self.b - learning_rate * b_gradient\n",
    "            \n",
    "            #calculate loss\n",
    "            train_loss = self.getLoss(X_train,y_train)\n",
    "            val_loss = self.getLoss(X_val,y_val)\n",
    "            score = self.acc(y_val,self.predict(X_val))\n",
    "            f.write('\\nepoch '+str(t+1)+'   Training loss:   '+str(train_loss)+'  Valing loss:   '+str(val_loss)+' Score: '+str(score)+'\\n\\n')\n",
    "            train_losses.append(train_loss)\n",
    "            val_losses.append(val_loss)\n",
    "            acc.append(score)\n",
    "        print(time.time()-start)\n",
    "        f.close()\n",
    "        return train_losses,val_losses,acc\n",
    "        \n",
    "    \n",
    "    def predict(self,X_test):\n",
    "        #X_test = np.insert(X_test,0,1,axis=1)\n",
    "        temp = np.dot(X_test,self.W) + self.b\n",
    "        pre = np.where(temp>=0,+1,-1)\n",
    "        return pre\n",
    "    \n",
    "    def acc(self,y_tru,y_pre):\n",
    "        count = 0\n",
    "        for i in range(len(y_tru)):\n",
    "            if y_tru[i] == y_pre[i]:\n",
    "                count+=1\n",
    "        return float(count)/len(y_tru)"
   ]
  },
  {
   "cell_type": "code",
   "execution_count": 52,
   "metadata": {},
   "outputs": [
    {
     "name": "stdout",
     "output_type": "stream",
     "text": [
      "37.584542751312256\n"
     ]
    }
   ],
   "source": [
    "#batch_size=32,rate=0.01,C=1.0\n",
    "svmsgd1 = SVMClassification(train_X.shape[1],c=1.0)\n",
    "svmsgd1tr,svmsgd1te,svmsgd1acc = svmsgd1.trainWithSGD(train_X,train_y,test_X,test_y,filename='svmsgd1c1size32rate001')"
   ]
  },
  {
   "cell_type": "code",
   "execution_count": 53,
   "metadata": {},
   "outputs": [
    {
     "name": "stdout",
     "output_type": "stream",
     "text": [
      "38.48994588851929\n"
     ]
    }
   ],
   "source": [
    "#batch_size=32,rate=0.01,C=10.0\n",
    "svmsgd2 = SVMClassification(train_X.shape[1],c=10.0)\n",
    "svmsgd2tr,svmsgd2te,svmsgd2acc = svmsgd2.trainWithSGD(train_X,train_y,test_X,test_y,filename='svmsgd2c10size32rate001')"
   ]
  },
  {
   "cell_type": "code",
   "execution_count": 54,
   "metadata": {},
   "outputs": [
    {
     "name": "stdout",
     "output_type": "stream",
     "text": [
      "39.12004351615906\n"
     ]
    }
   ],
   "source": [
    "#batch_size=32,rate=0.01,C=100.0\n",
    "svmsgd3 = SVMClassification(train_X.shape[1],c=100.0)\n",
    "svmsgd3tr,svmsgd3te,svmsgd3acc = svmsgd3.trainWithSGD(train_X,train_y,test_X,test_y,filename='svmsgd3c100size32rate001')"
   ]
  },
  {
   "cell_type": "code",
   "execution_count": 55,
   "metadata": {},
   "outputs": [
    {
     "name": "stdout",
     "output_type": "stream",
     "text": [
      "40.31569838523865\n"
     ]
    }
   ],
   "source": [
    "#batch_size=32,rate=1.0,c=1.0\n",
    "svmsgd4 = SVMClassification(train_X.shape[1],c=1.0)\n",
    "svmsgd4tr,svmsgd4te,svmsgd4acc = svmsgd1.trainWithSGD(train_X,train_y,test_X,test_y,filename='svmsgd4c1size32rate1',learning_rate=1.0)"
   ]
  },
  {
   "cell_type": "code",
   "execution_count": 56,
   "metadata": {},
   "outputs": [
    {
     "name": "stdout",
     "output_type": "stream",
     "text": [
      "38.18028521537781\n"
     ]
    }
   ],
   "source": [
    "#batch_size=32,rate=0.0001,c=1.0\n",
    "svmsgd5 = SVMClassification(train_X.shape[1],c=1.0)\n",
    "svmsgd5tr,svmsgd5te,svmsgd5acc = svmsgd5.trainWithSGD(train_X,train_y,test_X,test_y,filename='svmsgd5c1size32rate00001',learning_rate=0.0001)"
   ]
  },
  {
   "cell_type": "code",
   "execution_count": 57,
   "metadata": {},
   "outputs": [
    {
     "name": "stdout",
     "output_type": "stream",
     "text": [
      "38.18647384643555\n"
     ]
    }
   ],
   "source": [
    "#rate=0.01,c=1.0,batch=16\n",
    "svmsgd6 = SVMClassification(train_X.shape[1],c=1.0)\n",
    "svmsgd6tr,svmsgd6te,svmsgd6acc = svmsgd6.trainWithSGD(train_X,train_y,test_X,test_y,filename='svmsgd6c1size16rate001',batch_size=16)"
   ]
  },
  {
   "cell_type": "code",
   "execution_count": 58,
   "metadata": {},
   "outputs": [
    {
     "name": "stdout",
     "output_type": "stream",
     "text": [
      "39.954095125198364\n"
     ]
    }
   ],
   "source": [
    "#rate=0.01,c=1.0,batch=64\n",
    "svmsgd7 = SVMClassification(train_X.shape[1],c=1.0)\n",
    "svmsgd7tr,svmsgd7te,svmsgd7acc = svmsgd7.trainWithSGD(train_X,train_y,test_X,test_y,filename='svmsgd7c1size64rate001',batch_size=64)"
   ]
  },
  {
   "cell_type": "code",
   "execution_count": null,
   "metadata": {},
   "outputs": [],
   "source": [
    "plt.figure(figsize=(16,6))\n",
    "\n",
    "ax1 = plt.subplot(1,3,1)\n",
    "ax1.plot(range(1,len(svmsgd1te)+1), svmsgd1te, 'r--')\n",
    "ax1.plot(range(1,len(svmsgd2te)+1), svmsgd2te, 'bp-.')\n",
    "ax1.plot(range(1,len(svmsgd3te)+1), svmsgd3te, 'c--')\n",
    "label1 = ['svmsgd+c=1.0', 'svmsgd+c=10.0','svmsgd+c=100.0'] \n",
    "ax1.legend(label1, loc='upper right')\n",
    "ax1.set_xlabel('iterations')\n",
    "ax1.set_ylabel('total loss')\n",
    "\n",
    "ax2 = plt.subplot(1,3,2)\n",
    "ax2.plot(range(1,len(svmsgd1te)+1), svmsgd1te, 'r--')\n",
    "ax2.plot(range(1,len(svmsgd4te)+1), svmsgd4te, 'gp-.')\n",
    "ax2.plot(range(1,len(svmsgd5te)+1), svmsgd5te, 'c--')\n",
    "label2 = ['svmsgd+rate=0.01', 'svmsgd+rate=1.0','svmsgd+rate=0.0001'] \n",
    "ax2.legend(label2, loc='upper right')\n",
    "ax2.set_xlabel('iterations')\n",
    "ax2.set_ylabel('loss')\n",
    "\n",
    "ax3 = plt.subplot(1,3,3)\n",
    "ax3.plot(range(1,len(svmsgd1te)+1), svmsgd1te, 'r--')\n",
    "ax3.plot(range(1,len(svmsgd6te)+1), svmsgd6te, 'gp-.')\n",
    "ax3.plot(range(1,len(svmsgd7te)+1), svmsgd7te, 'c--')\n",
    "label3 = ['svmsgd+batch=32', 'svmsgd+batch=16','svmsgd+batch=64'] \n",
    "ax3.legend(label3, loc='upper right')\n",
    "ax3.set_xlabel('iterations')\n",
    "ax3.set_ylabel('loss')\n",
    "\n",
    "plt.tight_layout()\n",
    "#plt.subplots_adjust(wspace =2, hspace =2)\n",
    "plt.savefig('svmsgd500l.pdf')\n",
    "plt.show()"
   ]
  },
  {
   "cell_type": "code",
   "execution_count": null,
   "metadata": {},
   "outputs": [],
   "source": [
    "plt.figure(figsize=(16,6))\n",
    "\n",
    "ax1 = plt.subplot(1,3,1)\n",
    "ax1.plot(range(1,len(svmsgd1acc)+1), svmsgd1acc, 'r--')\n",
    "ax1.plot(range(1,len(svmsgd2acc)+1), svmsgd2acc, 'bp-.')\n",
    "ax1.plot(range(1,len(svmsgd3acc)+1), svmsgd3acc, 'c--')\n",
    "label1 = ['svmsgd+c=1.0', 'svmsgd+c=10.0','svmsgd+c=100.0'] \n",
    "ax1.legend(label1, loc='lower right')\n",
    "ax1.set_xlabel('iterations')\n",
    "ax1.set_ylabel('accurate')\n",
    "\n",
    "ax2 = plt.subplot(1,3,2)\n",
    "ax2.plot(range(1,len(svmsgd1acc)+1), svmsgd1acc, 'r--')\n",
    "ax2.plot(range(1,len(svmsgd4acc)+1), svmsgd4acc, 'gp-.')\n",
    "ax2.plot(range(1,len(svmsgd5acc)+1), svmsgd5acc, 'c--')\n",
    "label2 = ['svmsgd+rate=0.01', 'svmsgd+rate=1.0','svmsgd+rate=0.0001'] \n",
    "ax2.legend(label2, loc='lower right')\n",
    "ax2.set_xlabel('iterations')\n",
    "ax2.set_ylabel('accurate')\n",
    "\n",
    "ax3 = plt.subplot(1,3,3)\n",
    "ax3.plot(range(1,len(svmsgd1acc)+1), svmsgd1acc, 'r--')\n",
    "ax3.plot(range(1,len(svmsgd6acc)+1), svmsgd6acc, 'gp-.')\n",
    "ax3.plot(range(1,len(svmsgd7acc)+1), svmsgd7acc, 'c--')\n",
    "label3 = ['svmsgd+batch=32', 'svmsgd+batch=16','svmsgd+batch=64'] \n",
    "ax3.legend(label3, loc='lower right')\n",
    "ax3.set_xlabel('iterations')\n",
    "ax3.set_ylabel('accurate')\n",
    "\n",
    "plt.tight_layout()\n",
    "#plt.subplots_adjust(wspace =2, hspace =2)\n",
    "plt.savefig('svmsgd500a.pdf')\n",
    "plt.show()"
   ]
  },
  {
   "cell_type": "code",
   "execution_count": 63,
   "metadata": {},
   "outputs": [
    {
     "name": "stdout",
     "output_type": "stream",
     "text": [
      "39.97126865386963\n"
     ]
    }
   ],
   "source": [
    "#batch_size=32,rate=0.01,C=1.0\n",
    "svmadam1 = SVMClassification(train_X.shape[1],c=1.0)\n",
    "svmadam1tr,svmadam1te,svmadam1acc = svmadam1.trainWithAdam(train_X,train_y,test_X,test_y,filename='svmadam1c1size32rate001')"
   ]
  },
  {
   "cell_type": "code",
   "execution_count": 64,
   "metadata": {},
   "outputs": [
    {
     "name": "stdout",
     "output_type": "stream",
     "text": [
      "38.88247323036194\n"
     ]
    }
   ],
   "source": [
    "#batch_size=32,rate=0.01,C=10.0\n",
    "svmadam2 = SVMClassification(train_X.shape[1],c=10.0)\n",
    "svmadam2tr,svmadam2te,svmadam2acc = svmadam2.trainWithAdam(train_X,train_y,test_X,test_y,filename='svmadam2c10size32rate001')"
   ]
  },
  {
   "cell_type": "code",
   "execution_count": 65,
   "metadata": {},
   "outputs": [
    {
     "name": "stdout",
     "output_type": "stream",
     "text": [
      "39.12607455253601\n"
     ]
    }
   ],
   "source": [
    "#batch_size=32,rate=0.01,C=100.0\n",
    "svmadam3 = SVMClassification(train_X.shape[1],c=100.0)\n",
    "svmadam3tr,svmadam3te,svmadam3acc = svmadam3.trainWithAdam(train_X,train_y,test_X,test_y,filename='svmadam3c100size32rate001')"
   ]
  },
  {
   "cell_type": "code",
   "execution_count": 66,
   "metadata": {},
   "outputs": [
    {
     "name": "stdout",
     "output_type": "stream",
     "text": [
      "38.76017141342163\n"
     ]
    }
   ],
   "source": [
    "#batch_size=32,c=1.0,rate=1,0\n",
    "svmadam4 = SVMClassification(train_X.shape[1],c=1.0)\n",
    "svmadam4tr,svmadam4te,svmadam4acc = svmadam4.trainWithAdam(train_X,train_y,test_X,test_y,filename='svmadam4c1size32rate1',learning_rate=1.0)"
   ]
  },
  {
   "cell_type": "code",
   "execution_count": 67,
   "metadata": {},
   "outputs": [
    {
     "name": "stdout",
     "output_type": "stream",
     "text": [
      "38.45426154136658\n"
     ]
    }
   ],
   "source": [
    "#batch_size=32,c=1.0,rate=0.0001\n",
    "svmadam5 = SVMClassification(train_X.shape[1],c=1.0)\n",
    "svmadam5tr,svmadam5te,svmadam5acc = svmadam5.trainWithAdam(train_X,train_y,test_X,test_y,filename='svmadam5c1size32rate00001',learning_rate=0.0001)"
   ]
  },
  {
   "cell_type": "code",
   "execution_count": 68,
   "metadata": {},
   "outputs": [
    {
     "name": "stdout",
     "output_type": "stream",
     "text": [
      "39.65719985961914\n"
     ]
    }
   ],
   "source": [
    "#rate=0,01,c=1.0,size=16\n",
    "svmadam6 = SVMClassification(train_X.shape[1],c=1.0)\n",
    "svmadam6tr,svmadam6te,svmadam6acc = svmadam6.trainWithAdam(train_X,train_y,test_X,test_y,filename='svmadam6c1size16rate001',batch_size=16)"
   ]
  },
  {
   "cell_type": "code",
   "execution_count": 69,
   "metadata": {},
   "outputs": [
    {
     "name": "stdout",
     "output_type": "stream",
     "text": [
      "38.18319892883301\n"
     ]
    }
   ],
   "source": [
    "#rate=0,01,c=1.0,size=64\n",
    "svmadam7 = SVMClassification(train_X.shape[1],c=1.0)\n",
    "svmadam7tr,svmadam7te,svmadam7acc = svmadam7.trainWithAdam(train_X,train_y,test_X,test_y,filename='svmadam7c1size64rate001',batch_size=64)"
   ]
  },
  {
   "cell_type": "code",
   "execution_count": null,
   "metadata": {},
   "outputs": [],
   "source": [
    "plt.figure(figsize=(16,6))\n",
    "\n",
    "ax1 = plt.subplot(1,3,1)\n",
    "ax1.plot(range(1,len(svmadam1te)+1), svmadam1te, 'r--')\n",
    "ax1.plot(range(1,len(svmadam2te)+1), svmadam2te, 'bp-.')\n",
    "ax1.plot(range(1,len(svmadam3te)+1), svmadam3te, 'c--')\n",
    "label1 = ['svmadam+c=1.0', 'svmadam+c=10.0','svmadam+c=100.0'] \n",
    "ax1.legend(label1, loc='upper right')\n",
    "ax1.set_xlabel('iterations')\n",
    "ax1.set_ylabel('total loss')\n",
    "\n",
    "ax2 = plt.subplot(1,3,2)\n",
    "ax2.plot(range(1,len(svmadam1te)+1), svmadam1te, 'r--')\n",
    "ax2.plot(range(1,len(svmadam4te)+1), svmadam4te, 'gp-.')\n",
    "ax2.plot(range(1,len(svmadam5te)+1), svmadam5te, 'c--')\n",
    "label2 = ['svmadam+rate=0.01', 'svmadam+rate=1.0','svmadam+rate=0.0001'] \n",
    "ax2.legend(label2, loc='upper right')\n",
    "ax2.set_xlabel('iterations')\n",
    "ax2.set_ylabel('loss')\n",
    "\n",
    "ax3 = plt.subplot(1,3,3)\n",
    "ax3.plot(range(1,len(svmadam1te)+1), svmadam1te, 'r--')\n",
    "ax3.plot(range(1,len(svmadam6te)+1), svmadam6te, 'gp-.')\n",
    "ax3.plot(range(1,len(svmadam7te)+1), svmadam7te, 'c--')\n",
    "label3 = ['svmadam+batch=32', 'svmadam+batch=16','svmadam+batch=64'] \n",
    "ax3.legend(label3, loc='upper right')\n",
    "ax3.set_xlabel('iterations')\n",
    "ax3.set_ylabel('loss')\n",
    "\n",
    "plt.tight_layout()\n",
    "#plt.subplots_adjust(wspace =2, hspace =2)\n",
    "plt.savefig('svmadam500l.pdf')\n",
    "plt.show()"
   ]
  },
  {
   "cell_type": "code",
   "execution_count": null,
   "metadata": {},
   "outputs": [],
   "source": [
    "plt.figure(figsize=(16,6))\n",
    "\n",
    "ax1 = plt.subplot(1,3,1)\n",
    "ax1.plot(range(1,len(svmadam1acc)+1), svmadam1acc, 'r--')\n",
    "ax1.plot(range(1,len(svmadam2acc)+1), svmadam2acc, 'bp-.')\n",
    "ax1.plot(range(1,len(svmadam3acc)+1), svmadam3acc, 'c--')\n",
    "label1 = ['svmadam+c=1.0', 'svmadam+c=10.0','svmadam+c=100.0'] \n",
    "ax1.legend(label1, loc='lower right')\n",
    "ax1.set_xlabel('iterations')\n",
    "ax1.set_ylabel('accurate')\n",
    "\n",
    "ax2 = plt.subplot(1,3,2)\n",
    "ax2.plot(range(1,len(svmadam1acc)+1), svmadam1acc, 'r--')\n",
    "ax2.plot(range(1,len(svmadam4acc)+1), svmadam4acc, 'gp-.')\n",
    "ax2.plot(range(1,len(svmadam5acc)+1), svmadam5acc, 'c--')\n",
    "label2 = ['svmadam+rate=0.01', 'svmadam+rate=1.0','svmadam+rate=0.0001'] \n",
    "ax2.legend(label2, loc='lower right')\n",
    "ax2.set_xlabel('iterations')\n",
    "ax2.set_ylabel('accurate')\n",
    "\n",
    "ax3 = plt.subplot(1,3,3)\n",
    "ax3.plot(range(1,len(svmadam1acc)+1), svmadam1acc, 'r--')\n",
    "ax3.plot(range(1,len(svmadam6acc)+1), svmadam6acc, 'gp-.')\n",
    "ax3.plot(range(1,len(svmadam7acc)+1), svmadam7acc, 'c--')\n",
    "label3 = ['svmadam+batch=32', 'svmadam+batch=16','svmadam+batch=64'] \n",
    "ax3.legend(label3, loc='lower right')\n",
    "ax3.set_xlabel('iterations')\n",
    "ax3.set_ylabel('accurate')\n",
    "\n",
    "plt.tight_layout()\n",
    "#plt.subplots_adjust(wspace =2, hspace =2)\n",
    "plt.savefig('svmadam500a.pdf')\n",
    "plt.show()"
   ]
  },
  {
   "cell_type": "code",
   "execution_count": null,
   "metadata": {},
   "outputs": [],
   "source": []
  }
 ],
 "metadata": {
  "kernelspec": {
   "display_name": "Python 3",
   "language": "python",
   "name": "python3"
  },
  "language_info": {
   "codemirror_mode": {
    "name": "ipython",
    "version": 3
   },
   "file_extension": ".py",
   "mimetype": "text/x-python",
   "name": "python",
   "nbconvert_exporter": "python",
   "pygments_lexer": "ipython3",
   "version": "3.7.0"
  }
 },
 "nbformat": 4,
 "nbformat_minor": 2
}
